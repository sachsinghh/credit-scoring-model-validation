{
 "cells": [
  {
   "cell_type": "markdown",
   "id": "afa628dd-5633-4f10-add5-fee825a726f9",
   "metadata": {
    "tags": []
   },
   "source": [
    "# Initiation"
   ]
  },
  {
   "cell_type": "code",
   "execution_count": 1,
   "id": "dadbd1dd-4aad-4145-9082-6d7d75a1c770",
   "metadata": {},
   "outputs": [],
   "source": [
    "from pyhive import presto\n",
    "from pyhive import presto\n",
    "import pandas as pd\n",
    "import xgboost as xgb\n",
    "def sql(query_sentence):\n",
    "    cursor = presto.connect(protocol='https',\n",
    "                            host=\"\", #insert your host name/url\n",
    "                            port= , #insert port\n",
    "                            username='',\n",
    "                            password='',\n",
    "                            session_props={'query_max_stage_count': 500}).cursor()\n",
    "    cursor.execute(query_sentence)\n",
    "    return pd.DataFrame(cursor.fetchall(), columns=[i[0] for i in cursor.description])\n",
    "\n",
    "import pandas as pd\n",
    "import numpy as np\n",
    "import matplotlib.pyplot as plt\n",
    "import warnings\n",
    "warnings.filterwarnings('ignore')\n",
    "import gc\n",
    "\n",
    "from sklearn.metrics import roc_auc_score,roc_curve,auc\n",
    "from sklearn.model_selection import train_test_split\n",
    "import lightgbm as lgb\n",
    "import joblib\n",
    "\n",
    "\n",
    "# intended for use with XGBoost models or similar where preds are the predicted probabilities and dtrain is the training data.\n",
    "# Its more integrated with XGBoost's internal data handling (dtrain.get_label())\n",
    "def evalKS(preds, dtrain):\n",
    "    labels = dtrain.get_label()\n",
    "    fpr, tpr, threshold = roc_curve(labels, preds)\n",
    "    KS = max(tpr-fpr)\n",
    "    return('KS', KS)\n",
    "    \n",
    "# This function is more generic and seems to accept labels (true labels) and probs (predicted probabilities) directly as arguments.\n",
    "def get_ks(labels, probs):\n",
    "    fpr,tpr,_ = roc_curve(labels,probs)\n",
    "    w=tpr-fpr\n",
    "    ks_score=w.max()\n",
    "    return 'ks',ks_score,1\n",
    "\n",
    "\n",
    "def get_performance(model,data,fea,labels,title_name):\n",
    "    nm = max([len(n) for n in title_name])\n",
    "    \n",
    "    for i in range(len(title_name)):\n",
    "        features= data[i][fea]\n",
    "        probs = model.predict_proba(features)[:,1]\n",
    "        fpr,tpr,_ = roc_curve(data[i][labels],probs,drop_intermediate=False)\n",
    "        auc_score = auc(fpr,tpr)\n",
    "        w=tpr-fpr\n",
    "        ks_score=w.max()\n",
    "        ks_x=fpr[w.argmax()]\n",
    "        ks_y=tpr[w.argmax()]\n",
    "        \n",
    "\n",
    "        print(title_name[i],' '*(nm-len(title_name[i])),' features.shape=',features.shape,\n",
    "        '  auc_score={}'.format(roc_auc_score(data[i][labels],probs).round(5)),\n",
    "        '  ks_score={}'.format(ks_score.round(5)))\n"
   ]
  },
  {
   "cell_type": "code",
   "execution_count": 2,
   "id": "f6d962c1-d47e-439d-861c-9bd9f96c4b87",
   "metadata": {},
   "outputs": [
    {
     "data": {
      "text/plain": [
       "(261294, 65)"
      ]
     },
     "execution_count": 2,
     "metadata": {},
     "output_type": "execute_result"
    }
   ],
   "source": [
    "data_1 = sql(\"\"\"select * from source\"\"\")\n",
    "data_1.rename(columns={'score_test2':'score_1'},inplace=True)\n",
    "data_1.shape"
   ]
  },
  {
   "cell_type": "code",
   "execution_count": 5,
   "id": "d1768814-dcd8-427b-bf36-c678a0315c8e",
   "metadata": {},
   "outputs": [
    {
     "data": {
      "text/plain": [
       "(261294, 60)"
      ]
     },
     "execution_count": 5,
     "metadata": {},
     "output_type": "execute_result"
    }
   ],
   "source": [
    "data_2 = sql(\"\"\"select * from source\"\"\")\n",
    "data_2.rename(columns={'score':'score_2','main_iou_id':'iou_id'},inplace=True)\n",
    "data_2.shape"
   ]
  },
  {
   "cell_type": "code",
   "execution_count": 7,
   "id": "f0332a7f-a933-4eee-8c9a-36aab6ea5251",
   "metadata": {},
   "outputs": [
    {
     "data": {
      "text/plain": [
       "(261294, 56)"
      ]
     },
     "execution_count": 7,
     "metadata": {},
     "output_type": "execute_result"
    }
   ],
   "source": [
    "data_3 = sql(\"\"\"select * from source\"\"\")\n",
    "data_3.rename(columns={'score':'score_3','main_iou_id':'iou_id'},inplace=True)\n",
    "data_3.shape"
   ]
  },
  {
   "cell_type": "code",
   "execution_count": 8,
   "id": "6fb52a8d-4ef7-43e4-9715-66fe3350e035",
   "metadata": {},
   "outputs": [],
   "source": [
    "data_1 = data_1.replace('', np.nan)\n",
    "varlist = data_1.iloc[:,15:len(data_1.columns)].columns\n",
    "for i in list(data_1[varlist].select_dtypes('O')):\n",
    "    data_1[i] = data_1[i].astype(float)"
   ]
  },
  {
   "cell_type": "code",
   "execution_count": 9,
   "id": "6adb6c02-8f2a-4178-a8d7-99b0247a48d6",
   "metadata": {},
   "outputs": [],
   "source": [
    "data_2 = data_2.replace('', np.nan)\n",
    "varlist = data_2.iloc[:,5:len(data_2.columns)-1].columns\n",
    "for i in list(data_2[varlist].select_dtypes('O')):\n",
    "    data_2[i] = data_2[i].astype(float)"
   ]
  },
  {
   "cell_type": "code",
   "execution_count": 10,
   "id": "4d60735a-33a6-4a00-b4ad-74f49ff210f7",
   "metadata": {},
   "outputs": [],
   "source": [
    "data_3 = data_3.replace('', np.nan)\n",
    "varlist = data_3.iloc[:,5:len(data_3.columns)-1].columns\n",
    "for i in list(data_3[varlist].select_dtypes('O')):\n",
    "    data_3[i] = data_3[i].astype(float)"
   ]
  },
  {
   "cell_type": "code",
   "execution_count": 13,
   "id": "d600b1e5-10ad-4a92-9311-2488bada7c89",
   "metadata": {},
   "outputs": [],
   "source": [
    "pid_list=[]\n",
    "for i in list(data_1):\n",
    "    if 'mf' not in i:\n",
    "        pid_list.append(i)"
   ]
  },
  {
   "cell_type": "code",
   "execution_count": 14,
   "id": "d351711c-aa94-4fe9-9b4c-d88d838d83fd",
   "metadata": {},
   "outputs": [
    {
     "data": {
      "text/plain": [
       "(261294, 20)"
      ]
     },
     "execution_count": 14,
     "metadata": {},
     "output_type": "execute_result"
    }
   ],
   "source": [
    "data_total = data_1[pid_list].merge(\n",
    "    data_2[['iou_id','score_2']],on='iou_id').merge(\n",
    "    data_3[['iou_id','score_3']],on='iou_id')\n",
    "data_total.shape"
   ]
  },
  {
   "cell_type": "markdown",
   "id": "b0bf16f4-dcdd-48a9-a836-8e9485cd7937",
   "metadata": {
    "tags": []
   },
   "source": [
    "# Sample Division"
   ]
  },
  {
   "cell_type": "code",
   "execution_count": 21,
   "id": "887f154f-e8eb-4975-b8ff-6b5fa660d1c0",
   "metadata": {},
   "outputs": [
    {
     "data": {
      "text/plain": [
       "(61748, 1)"
      ]
     },
     "execution_count": 21,
     "metadata": {},
     "output_type": "execute_result"
    }
   ],
   "source": [
    "train_id = sql(\"\"\" select * from source \"\"\")\n",
    "train_id.shape"
   ]
  },
  {
   "cell_type": "code",
   "execution_count": 22,
   "id": "9a8a67b0-4585-4fe5-a612-d12499b275cd",
   "metadata": {},
   "outputs": [
    {
     "data": {
      "text/plain": [
       "(15438, 1)"
      ]
     },
     "execution_count": 22,
     "metadata": {},
     "output_type": "execute_result"
    }
   ],
   "source": [
    "valid_id = sql(\"\"\"select * from source\"\"\")\n",
    "valid_id.shape"
   ]
  },
  {
   "cell_type": "code",
   "execution_count": 23,
   "id": "98019e59-b8a6-4608-ae1f-c169903466d8",
   "metadata": {},
   "outputs": [
    {
     "data": {
      "text/plain": [
       "set()"
      ]
     },
     "execution_count": 23,
     "metadata": {},
     "output_type": "execute_result"
    }
   ],
   "source": [
    "set(train_id.main_person_uuid).intersection(set(valid_id.main_person_uuid))"
   ]
  },
  {
   "cell_type": "code",
   "execution_count": 24,
   "id": "ad9034e1-a675-4de4-bc19-9f6215dc9b79",
   "metadata": {},
   "outputs": [
    {
     "data": {
      "text/plain": [
       "((96740, 20), (24057, 20), (140497, 20))"
      ]
     },
     "execution_count": 24,
     "metadata": {},
     "output_type": "execute_result"
    }
   ],
   "source": [
    "train = data_total[(data_total.main_iou_mon.between('2024-04','2024-05'))&(data_total.person_uuid.isin(train_id.main_person_uuid))]\n",
    "valid = data_total[(data_total.main_iou_mon.between('2024-04','2024-05'))&(data_total.person_uuid.isin(valid_id.main_person_uuid))]\n",
    "oot = data_total[~data_total.main_iou_mon.between('2024-04','2024-05')]\n",
    "train.shape,valid.shape,oot.shape"
   ]
  },
  {
   "cell_type": "code",
   "execution_count": 25,
   "id": "c54bc871-c500-4dc9-987d-1780890dbff9",
   "metadata": {},
   "outputs": [
    {
     "data": {
      "text/plain": [
       "261294"
      ]
     },
     "execution_count": 25,
     "metadata": {},
     "output_type": "execute_result"
    }
   ],
   "source": [
    "96740+24057+140497"
   ]
  },
  {
   "cell_type": "markdown",
   "id": "c77a4ffb-de4b-4a72-9dc5-0b3826f72349",
   "metadata": {
    "tags": []
   },
   "source": [
    "# XGB-MO "
   ]
  },
  {
   "cell_type": "code",
   "execution_count": 46,
   "id": "8b89ae94-6449-48d4-a94b-7301d0dc32f5",
   "metadata": {},
   "outputs": [
    {
     "data": {
      "text/plain": [
       "3"
      ]
     },
     "execution_count": 46,
     "metadata": {},
     "output_type": "execute_result"
    }
   ],
   "source": [
    "var_list = ['score_1','score_2','score_3']\n",
    "# var_list = ['score_1','score_2']\n",
    "len(var_list)"
   ]
  },
  {
   "cell_type": "code",
   "execution_count": 27,
   "id": "9f32e7de-281b-477b-9a73-bb71a1aa71b5",
   "metadata": {},
   "outputs": [],
   "source": [
    "dtrain = xgb.DMatrix(train[var_list], label=train['flag'])\n",
    "dvalid = xgb.DMatrix(valid[var_list], label=valid['flag'])"
   ]
  },
  {
   "cell_type": "code",
   "execution_count": null,
   "id": "53f56599-427b-4ed7-945e-7e33f9b7a5e7",
   "metadata": {},
   "outputs": [],
   "source": [
    "params_xgb = {\n",
    "    'booster': 'gbtree',               \n",
    "    'objective': 'binary:logistic',    \n",
    "    'disable_default_eval_metric': 1,  \n",
    "    'gamma': 0,                        \n",
    "    'max_depth': 3,                    \n",
    "    'colsample_bytree':1,             \n",
    "    'subsample': 0.8,                   \n",
    "    'eta': 0.1,                       \n",
    "    'seed': 10,                       \n",
    "    'min_child_weight':200,            \n",
    "    'tree_method': 'auto'            \n",
    "    #'max_bin':                        \n",
    "}"
   ]
  },
  {
   "cell_type": "code",
   "execution_count": null,
   "id": "62068304-1528-457b-8674-5a6ae0eb5e6f",
   "metadata": {},
   "outputs": [],
   "source": [
    "num_boost_round = 1000                         \n",
    "evallist = [(dtrain, 'train'),(dvalid, 'valid')]       \n",
    "evals_result={}\n",
    "xgb_mod = xgb.train(params_xgb, dtrain, num_boost_round,\n",
    "                    evallist,feval=evalKS,                   \n",
    "                    evals_result=evals_result,\n",
    "                    maximize=True,                          \n",
    "                    verbose_eval=10,                        \n",
    "                    early_stopping_rounds=50                \n",
    "                   )"
   ]
  },
  {
   "cell_type": "code",
   "execution_count": null,
   "id": "d11b79b4-d5bf-43a3-a62a-fbfbf8ed7670",
   "metadata": {},
   "outputs": [],
   "source": [
    "def get_performance_v2(model, data, fea, labels, title_name):\n",
    "    nm = max([len(n) for n in title_name])\n",
    "    \n",
    "    for i in range(len(title_name)):\n",
    "        features = data[i][fea]\n",
    "        # Use predict to get probabilities for binary classification\n",
    "        probs = model.predict(xgb.DMatrix(features))\n",
    "        fpr, tpr, _ = roc_curve(data[i][labels], probs, drop_intermediate=False)\n",
    "        auc_score = auc(fpr, tpr)\n",
    "        w = tpr - fpr\n",
    "        ks_score = w.max()\n",
    "        ks_x = fpr[w.argmax()]\n",
    "        ks_y = tpr[w.argmax()]\n",
    "        \n",
    "        print(title_name[i], ' ' * (nm - len(title_name[i])), ' features.shape=', features.shape,\n",
    "              '  auc_score={}'.format(roc_auc_score(data[i][labels], probs).round(5)),\n",
    "              '  ks_score={}'.format(ks_score.round(5)))\n",
    "\n",
    "get_performance_v2(\n",
    "    xgb_mod,\n",
    "    [train_df_fei, test_df_fei],\n",
    "    prod_features,\n",
    "    'isbad',\n",
    "    ['train', 'valid']\n",
    ")"
   ]
  },
  {
   "cell_type": "markdown",
   "id": "7abf6a6d-1286-4d23-bd27-5d44c2e448ac",
   "metadata": {
    "tags": []
   },
   "source": [
    "# Save model0 "
   ]
  },
  {
   "cell_type": "code",
   "execution_count": null,
   "id": "25ed3711-1310-428e-a3ef-a1333a3e05c1",
   "metadata": {},
   "outputs": [],
   "source": [
    "joblib.dump(xgb_mod,'model0.pkl')"
   ]
  }
 ],
 "metadata": {
  "kernelspec": {
   "display_name": "Python 3 (ipykernel)",
   "language": "python",
   "name": "python3"
  },
  "language_info": {
   "codemirror_mode": {
    "name": "ipython",
    "version": 3
   },
   "file_extension": ".py",
   "mimetype": "text/x-python",
   "name": "python",
   "nbconvert_exporter": "python",
   "pygments_lexer": "ipython3",
   "version": "3.10.9"
  }
 },
 "nbformat": 4,
 "nbformat_minor": 5
}
